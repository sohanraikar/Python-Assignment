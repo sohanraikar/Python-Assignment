{
 "cells": [
  {
   "cell_type": "code",
   "execution_count": 5,
   "id": "7d274f9d-009e-4734-ba86-4acd25af4c9c",
   "metadata": {},
   "outputs": [
    {
     "name": "stdin",
     "output_type": "stream",
     "text": [
      "Enter first number:  100\n",
      "Enter second number:  50\n"
     ]
    },
    {
     "name": "stdout",
     "output_type": "stream",
     "text": [
      "Addition: 150.0\n",
      "Subtraction: 50.0\n",
      "Multiplication: 5000.0\n",
      "Division: 2.0\n",
      "Modulus: 0.0\n",
      "Exponentiation: 1e+100\n",
      "Floor Division: 2.0\n"
     ]
    }
   ],
   "source": [
    "#1.Write a Python program to perform the following operations:\n",
    "  # 1. Add, subtract, multiply, and divide two numbers (input by the user).\n",
    "  # 2. Use the modulus operator to find the remainder of their division.\n",
    "  # 3. Use the exponentiation operator to raise the first number to the power of the second number\n",
    "  # 4. Perform floor division on the two numbers.\n",
    "\n",
    "# Get user input\n",
    "num1 = float(input(\"Enter first number: \"))\n",
    "num2 = float(input(\"Enter second number: \"))\n",
    "\n",
    "# Perform operations\n",
    "addition = num1 + num2\n",
    "subtraction = num1 - num2\n",
    "multiplication = num1 * num2\n",
    "division = num1 / num2\n",
    "modulus = num1 % num2\n",
    "exponentiation = num1 ** num2\n",
    "floor_division = num1 // num2\n",
    "\n",
    "# Display results\n",
    "print(\"Addition:\", addition)\n",
    "print(\"Subtraction:\", subtraction)\n",
    "print(\"Multiplication:\", multiplication)\n",
    "print(\"Division:\", division)\n",
    "print(\"Modulus:\", modulus)\n",
    "print(\"Exponentiation:\", exponentiation)\n",
    "print(\"Floor Division:\", floor_division)\n"
   ]
  },
  {
   "cell_type": "code",
   "execution_count": 7,
   "id": "1a2396e6-c115-4124-ac27-e4e9d5b199f8",
   "metadata": {},
   "outputs": [
    {
     "name": "stdin",
     "output_type": "stream",
     "text": [
      "Enter the first number:  10\n",
      "Enter the second number:  20\n"
     ]
    },
    {
     "name": "stdout",
     "output_type": "stream",
     "text": [
      "The first number is less than or equal to the second.\n"
     ]
    }
   ],
   "source": [
    "#2.Write a Python program that asks for two numbers and checks:\n",
    "  # 1. If the first number is greater than the second.\n",
    "  # 2. If the first number is equal to the second.\n",
    "  # 3. If the first number is less than or equal to the second.\n",
    "\n",
    "# Get user input\n",
    "num1 = float(input(\"Enter the first number: \"))\n",
    "num2 = float(input(\"Enter the second number: \"))\n",
    "\n",
    "# Check conditions\n",
    "if num1 > num2:\n",
    "    print(\"The first number is greater than the second.\")\n",
    "elif num1 == num2:\n",
    "    print(\"The first number is equal to the second.\")\n",
    "else:\n",
    "    print(\"The first number is less than or equal to the second.\")\n"
   ]
  },
  {
   "cell_type": "code",
   "execution_count": 23,
   "id": "770c6cb1-4a6a-43bd-b468-d1e2c767beb0",
   "metadata": {},
   "outputs": [
    {
     "name": "stdin",
     "output_type": "stream",
     "text": [
      "Enter first boolean value (True/False):  True\n",
      "Enter second boolean value (True/False):  True\n",
      "Enter third boolean value (True/False):  false\n"
     ]
    },
    {
     "name": "stdout",
     "output_type": "stream",
     "text": [
      "Result of AND operation: True\n",
      "Result of OR operation: True\n",
      "Result of NOT operation on first value: False\n"
     ]
    }
   ],
   "source": [
    "#3.Write a Python program that:\n",
    "  # 1. Takes three boolean values (True or False) as input.\n",
    "  # 2. Uses and, or, and not operators to return the result of combining them\n",
    "\n",
    "# Take three boolean values as input\n",
    "bool1 = bool(input(\"Enter first boolean value (True/False): \"))\n",
    "bool2 = bool(input(\"Enter second boolean value (True/False): \"))\n",
    "bool3 = bool(input(\"Enter third boolean value (True/False): \"))\n",
    "\n",
    "# Use and, or, and not operators\n",
    "result_and = bool1 and bool2 and bool3\n",
    "result_or = bool1 or bool2 or bool3\n",
    "result_not = not bool1\n",
    "\n",
    "# Display the results\n",
    "print(\"Result of AND operation:\", result_and)\n",
    "print(\"Result of OR operation:\", result_or)\n",
    "print(\"Result of NOT operation on first value:\", result_not)\n",
    "\n"
   ]
  },
  {
   "cell_type": "code",
   "execution_count": 27,
   "id": "fc08889c-050d-4f3f-a5b4-1e2c621d59fb",
   "metadata": {},
   "outputs": [
    {
     "name": "stdin",
     "output_type": "stream",
     "text": [
      "Enter a string:  sohan\n"
     ]
    },
    {
     "name": "stdout",
     "output_type": "stream",
     "text": [
      "Length of the string: 5\n",
      "First character: s\n",
      "Last character: n\n",
      "Reversed string: nahos\n",
      "Uppercase: SOHAN\n",
      "Lowercase: sohan\n"
     ]
    }
   ],
   "source": [
    "#4. 1. Take a string input from the user.\n",
    "  # 2. Display the following:\n",
    "  # The length of the string.\n",
    "  # The first and last character.\n",
    "  # The string in reverse order.\n",
    "  # The string in uppercase and lowercase.\n",
    "\n",
    "# Get user input\n",
    "string = input(\"Enter a string: \")\n",
    "\n",
    "# Get string properties\n",
    "length = len(string)\n",
    "first_char = string[0]\n",
    "last_char = string[-1]\n",
    "reversed_string = string[::-1]\n",
    "uppercase = string.upper()\n",
    "lowercase = string.lower()\n",
    "\n",
    "# Display results\n",
    "print(\"Length of the string:\", length)\n",
    "print(\"First character:\", first_char)\n",
    "print(\"Last character:\", last_char)\n",
    "print(\"Reversed string:\", reversed_string)\n",
    "print(\"Uppercase:\", uppercase)\n",
    "print(\"Lowercase:\", lowercase)\n"
   ]
  },
  {
   "cell_type": "code",
   "execution_count": 41,
   "id": "4bb444fc-6e5d-4e51-b785-9240df55a172",
   "metadata": {},
   "outputs": [
    {
     "name": "stdin",
     "output_type": "stream",
     "text": [
      "Enter your name:  sohan\n",
      "Enter your age:  21\n"
     ]
    },
    {
     "name": "stdout",
     "output_type": "stream",
     "text": [
      "Hello sohan, you are 21 years old.\n"
     ]
    }
   ],
   "source": [
    "#5. Write a program that asks for the user's name and age, and displays the message in this format:\n",
    "# Hello [Name], you are [Age] years old.\n",
    "\n",
    "# Get user input\n",
    "name = input(\"Enter your name: \")\n",
    "age = input(\"Enter your age: \")\n",
    "\n",
    "# Display message\n",
    "print(f\"Hello {name}, you are {age} years old.\")\n"
   ]
  },
  {
   "cell_type": "code",
   "execution_count": 43,
   "id": "b49eec07-ccfd-4c40-b769-a341bd1d9dd2",
   "metadata": {},
   "outputs": [
    {
     "name": "stdin",
     "output_type": "stream",
     "text": [
      "Enter a sentence:  hello guys how are you all?\n",
      "Enter a word to search:  are\n"
     ]
    },
    {
     "name": "stdout",
     "output_type": "stream",
     "text": [
      "The word 'are' exists in the sentence at index 15.\n"
     ]
    }
   ],
   "source": [
    "#6. Write a Python program that:\n",
    "  # 1. Asks for a sentence input from the user.\n",
    "  # 2. Asks for a word to search in the sentence.\n",
    "  # 3. Outputs whether the word exists in the sentence and, if it does, at which position (index).\n",
    "\n",
    "# Get user input\n",
    "sentence = input(\"Enter a sentence: \")\n",
    "word = input(\"Enter a word to search: \")\n",
    "\n",
    "# Check if the word is in the sentence\n",
    "if word in sentence:\n",
    "    index = sentence.index(word)\n",
    "    print(f\"The word '{word}' exists in the sentence at index {index}.\")\n",
    "else:\n",
    "    print(f\"The word '{word}' does not exist in the sentence.\")\n"
   ]
  },
  {
   "cell_type": "code",
   "execution_count": 51,
   "id": "ce90dd43-200e-48e2-8f5d-0faac420d349",
   "metadata": {},
   "outputs": [
    {
     "name": "stdin",
     "output_type": "stream",
     "text": [
      "Enter first number:  10\n",
      "Enter second number:  1\n",
      "Enter third number:  2\n",
      "Enter fourth number:  99\n",
      "Enter fifth number:  5\n"
     ]
    },
    {
     "name": "stdout",
     "output_type": "stream",
     "text": [
      "The numbers you entered are: [10.0, 1.0, 2.0, 99.0, 5.0]\n",
      "The sum of all numbers is: 117.0\n",
      "The largest number is: 99.0\n",
      "The smallest number is: 1.0\n"
     ]
    }
   ],
   "source": [
    "#7.Write a Python program that:\n",
    "# 1. Creates a list of 5 numbers (input from the user).\n",
    "# 2. Displays the sum of all the numbers in the list.\n",
    "# 3. Finds the largest and smallest number in the list.\n",
    "\n",
    "# Get user input for each number\n",
    "num1 = float(input(\"Enter first number: \"))\n",
    "num2 = float(input(\"Enter second number: \"))\n",
    "num3 = float(input(\"Enter third number: \"))\n",
    "num4 = float(input(\"Enter fourth number: \"))\n",
    "num5 = float(input(\"Enter fifth number: \"))\n",
    "\n",
    "# Create a list of these numbers\n",
    "numbers = [num1, num2, num3, num4, num5]\n",
    "\n",
    "# Display the list\n",
    "print(\"The numbers you entered are:\", numbers)\n",
    "\n",
    "# Calculate the sum of all numbers\n",
    "sum_numbers = num1 + num2 + num3 + num4 + num5\n",
    "print(\"The sum of all numbers is:\", sum_numbers)\n",
    "\n",
    "# Find the largest and smallest numbers\n",
    "max_number = max(numbers)\n",
    "min_number = min(numbers)\n",
    "print(\"The largest number is:\", max_number)\n",
    "print(\"The smallest number is:\", min_number)"
   ]
  },
  {
   "cell_type": "code",
   "execution_count": 55,
   "id": "388b770c-e4e6-499b-9351-22bfc509fa83",
   "metadata": {},
   "outputs": [
    {
     "name": "stdout",
     "output_type": "stream",
     "text": [
      "Updated list of favorite fruits: ['Apple', 'Mango', 'Orange', 'Strawberry', 'Grapes']\n"
     ]
    }
   ],
   "source": [
    "#8.1. Create a list of 5 of your favorite fruits.\n",
    "   # 2. Perform the following:\n",
    "   #  o Add one more fruit to the list.\n",
    "   #  o Remove the second fruit from the list.\n",
    "   #  o Print the updated list.\n",
    "\n",
    "# Create a list of 5 favorite fruits\n",
    "favorite_fruits = [\"Apple\", \"Banana\", \"Mango\", \"Orange\", \"Strawberry\"]\n",
    "\n",
    "# Add one more fruit to the list\n",
    "favorite_fruits.append(\"Grapes\")\n",
    "\n",
    "# Remove the second fruit from the list\n",
    "favorite_fruits.pop(1)\n",
    "\n",
    "# Print the updated list\n",
    "print(\"Updated list of favorite fruits:\", favorite_fruits)\n"
   ]
  },
  {
   "cell_type": "code",
   "execution_count": 65,
   "id": "1fb304b5-53fb-4a48-ba38-1d5d24ca2fb5",
   "metadata": {},
   "outputs": [
    {
     "name": "stdin",
     "output_type": "stream",
     "text": [
      "Enter first number:  98\n",
      "Enter second number:  67\n",
      "Enter third number:  444\n",
      "Enter fourth number:  32\n",
      "Enter fifth number:  999\n"
     ]
    },
    {
     "name": "stdout",
     "output_type": "stream",
     "text": [
      "Numbers in ascending order: [32.0, 67.0, 98.0, 444.0, 999.0]\n",
      "Numbers in descending order: [999.0, 444.0, 98.0, 67.0, 32.0]\n"
     ]
    }
   ],
   "source": [
    "#9.Write a Python program that:\n",
    "# 1. Asks the user to input a list of 5 numbers.\n",
    "# 2. Sorts the list in ascending order and displays it.\n",
    "# 3. Sorts the list in descending order and displays it.\n",
    "\n",
    "# Get user input for five numbers\n",
    "num1 = float(input(\"Enter first number: \"))\n",
    "num2 = float(input(\"Enter second number: \"))\n",
    "num3 = float(input(\"Enter third number: \"))\n",
    "num4 = float(input(\"Enter fourth number: \"))\n",
    "num5 = float(input(\"Enter fifth number: \"))\n",
    "\n",
    "# Create a list of numbers\n",
    "numbers = [num1, num2, num3, num4, num5]\n",
    "\n",
    "# Sort the list in ascending order\n",
    "numbers.sort()\n",
    "print(\"Numbers in ascending order:\", numbers)\n",
    "\n",
    "# Sort the list in descending order\n",
    "numbers.sort(reverse=True)\n",
    "print(\"Numbers in descending order:\", numbers)\n"
   ]
  },
  {
   "cell_type": "code",
   "execution_count": 85,
   "id": "1b99fb42-d775-4ea7-b487-3bc38de7ca0a",
   "metadata": {},
   "outputs": [
    {
     "name": "stdout",
     "output_type": "stream",
     "text": [
      "First 5 elements: [1, 2, 3, 4, 5]\n",
      "Last 5 elements: [6, 7, 8, 9, 10]\n",
      "Elements from index 2 to index 7: [3, 4, 5, 6, 7, 8]\n"
     ]
    }
   ],
   "source": [
    "#10.Given the list numbers = [1, 2, 3, 4, 5, 6, 7, 8, 9, 10], perform the following:\n",
    "# 1. Print the first 5 elements.\n",
    "# 2. Print the last 5 elements.\n",
    "# 3. Print the elements from index 2 to index 7.\n",
    "\n",
    "numbers = [1, 2, 3, 4, 5, 6, 7, 8, 9, 10]\n",
    "\n",
    "# Print the first 5 elements\n",
    "first_five_elements = numbers[:5]\n",
    "print(\"First 5 elements:\", first_five_elements)\n",
    "\n",
    "# Print the last 5 elements\n",
    "last_five_elements = numbers[-5:]\n",
    "print(\"Last 5 elements:\", last_five_elements)\n",
    "\n",
    "# Print the elements from index 2 to index 7\n",
    "elements_2_to_7 = numbers[2:8]\n",
    "print(\"Elements from index 2 to index 7:\", elements_2_to_7)\n"
   ]
  },
  {
   "cell_type": "code",
   "execution_count": 1,
   "id": "f23e96fb-fe5c-47b7-be02-bc37d9c7838b",
   "metadata": {},
   "outputs": [
    {
     "name": "stdin",
     "output_type": "stream",
     "text": [
      "Enter the name of student 1:  suman\n",
      "Enter suman's score for subject 1:  90\n",
      "Enter suman's score for subject 2:  99\n",
      "Enter suman's score for subject 3:  98\n",
      "Enter the name of student 2:  sohan\n",
      "Enter sohan's score for subject 1:  99\n",
      "Enter sohan's score for subject 2:  100\n",
      "Enter sohan's score for subject 3:  95\n",
      "Enter the name of student 3:  harsh\n",
      "Enter harsh's score for subject 1:  90\n",
      "Enter harsh's score for subject 2:  99\n",
      "Enter harsh's score for subject 3:  100\n"
     ]
    },
    {
     "name": "stdout",
     "output_type": "stream",
     "text": [
      "suman's average score is 95.67\n",
      "sohan's average score is 98.00\n",
      "harsh's average score is 96.33\n"
     ]
    }
   ],
   "source": [
    "#11.Write a Python program that:\n",
    "# 1. Takes input of 3 students' names and their respective scores in 3 subjects.\n",
    "# 2. Stores them in a nested list.\n",
    "# 3. Prints each student's name and their average score.\n",
    "\n",
    "# Create an empty list to store student data\n",
    "students = []\n",
    "\n",
    "# Get input for 3 students\n",
    "for i in range(3):\n",
    "    name = input(f\"Enter the name of student {i + 1}: \")\n",
    "    score1 = float(input(f\"Enter {name}'s score for subject 1: \"))\n",
    "    score2 = float(input(f\"Enter {name}'s score for subject 2: \"))\n",
    "    score3 = float(input(f\"Enter {name}'s score for subject 3: \"))\n",
    "    \n",
    "    # Calculate the average score\n",
    "    average = (score1 + score2 + score3) / 3\n",
    "    \n",
    "    # Store the data in a nested list\n",
    "    students.append([name, [score1, score2, score3], average])\n",
    "\n",
    "# Print each student's name and their average score\n",
    "for student in students:\n",
    "    print(f\"{student[0]}'s average score is {student[2]:.2f}\")"
   ]
  }
 ],
 "metadata": {
  "kernelspec": {
   "display_name": "Python 3 (ipykernel)",
   "language": "python",
   "name": "python3"
  },
  "language_info": {
   "codemirror_mode": {
    "name": "ipython",
    "version": 3
   },
   "file_extension": ".py",
   "mimetype": "text/x-python",
   "name": "python",
   "nbconvert_exporter": "python",
   "pygments_lexer": "ipython3",
   "version": "3.12.4"
  }
 },
 "nbformat": 4,
 "nbformat_minor": 5
}
